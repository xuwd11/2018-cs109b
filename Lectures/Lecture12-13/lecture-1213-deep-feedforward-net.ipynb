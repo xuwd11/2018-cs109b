{
 "cells": [
  {
   "cell_type": "markdown",
   "metadata": {},
   "source": [
    "## Lecture 12-13: XOR Example \n",
    "CS 109B, STAT 121B, AC 209B, CSE 109B\n",
    "\n",
    "Mark Glickman  and Pavlos Protopapas"
   ]
  },
  {
   "cell_type": "code",
   "execution_count": 1,
   "metadata": {},
   "outputs": [],
   "source": [
    "from sklearn.neural_network import MLPClassifier\n",
    "from sklearn.svm import SVC\n",
    "import numpy as np\n",
    "import pandas as pd\n",
    "import matplotlib\n",
    "import matplotlib.pyplot as plt\n",
    "from functools import partial\n",
    "from ipywidgets import interact\n",
    "%matplotlib inline"
   ]
  },
  {
   "cell_type": "markdown",
   "metadata": {},
   "source": [
    "## Plot Decision Boundary"
   ]
  },
  {
   "cell_type": "code",
   "execution_count": 2,
   "metadata": {},
   "outputs": [],
   "source": [
    "#--------  plot_decision_boundary\n",
    "# A function that visualizes the data and the decision boundaries\n",
    "# Input: \n",
    "#      x (predictors)\n",
    "#      y (labels)\n",
    "#      pred (classifier prediction function)\n",
    "#      title (title for plot)\n",
    "#      ax (a set of axes to plot on)\n",
    "# Returns: \n",
    "#      ax (axes with data and decision boundaries)\n",
    "\n",
    "def plot_decision_boundary(x, y, pred, title, ax):\n",
    "    # Create mesh\n",
    "    # Interval of points for biomarker 1\n",
    "    min0 = np.min(x[:,0])\n",
    "    max0 = np.max(x[:,0])\n",
    "    interval0 = np.arange(min0, max0, (max0-min0)/500.0)\n",
    "    n0 = np.size(interval0)\n",
    "    \n",
    "    # Interval of points for biomarker 2\n",
    "    min1 = np.min(x[:,1])\n",
    "    max1 = np.max(x[:,1])\n",
    "    interval1 = np.arange(min1, max1, (max1-min1)/500.0)\n",
    "    n1 = np.size(interval1)\n",
    "\n",
    "    # Create mesh grid of points\n",
    "    x1, x2 = np.meshgrid(interval0, interval1)\n",
    "    x1 = x1.reshape(-1,1)\n",
    "    x2 = x2.reshape(-1,1)\n",
    "    xx = np.concatenate((x1, x2), axis=1)\n",
    "\n",
    "    # Predict on mesh of points\n",
    "    yy = pred(xx)\n",
    "    yy = yy.reshape((n0, n1))\n",
    "\n",
    "    # Plot decision surface\n",
    "    x1 = x1.reshape(n0, n1)\n",
    "    x2 = x2.reshape(n0, n1)\n",
    "    ax.contourf(x1, x2, yy, cmap=plt.cm.coolwarm, alpha=0.8)\n",
    "    \n",
    "    if(y != None):\n",
    "        # Plot scatter plot of data\n",
    "        yy = y.reshape(-1,)\n",
    "        ax.scatter(x[yy==0,0], x[yy==0,1], c='red', cmap=plt.cm.coolwarm)\n",
    "        ax.scatter(x[yy==1,0], x[yy==1,1], c='blue', cmap=plt.cm.coolwarm)\n",
    "    \n",
    "    # Label axis, title\n",
    "    ax.set_title(title)\n",
    "    ax.set_xlabel('$x_1$')\n",
    "    ax.set_ylabel('$x_2$')\n",
    "    \n",
    "    return ax"
   ]
  },
  {
   "cell_type": "markdown",
   "metadata": {},
   "source": [
    "# Example: Learning XOR"
   ]
  },
  {
   "cell_type": "markdown",
   "metadata": {},
   "source": [
    "## Generate data"
   ]
  },
  {
   "cell_type": "code",
   "execution_count": 3,
   "metadata": {},
   "outputs": [
    {
     "data": {
      "text/plain": [
       "Text(0,0.5,'$x_2$')"
      ]
     },
     "execution_count": 3,
     "metadata": {},
     "output_type": "execute_result"
    },
    {
     "data": {
      "image/png": "[encoded data removed]",
      "text/plain": [
       "<matplotlib.figure.Figure at 0x7f9c49b00860>"
      ]
     },
     "metadata": {},
     "output_type": "display_data"
    }
   ],
   "source": [
    "X = np.array([[0., 0.], [1., 1.], [1.0,0.0], [0.0,1.0]])\n",
    "y = np.array([0, 0, 1, 1])\n",
    "\n",
    "plt.plot(X[y==0,0], X[y==0,1], 'ro', markersize=10)\n",
    "plt.plot(X[y==1,0], X[y==1,1], 'o', markersize=10)\n",
    "\n",
    "plt.xlim(X[:,0].min()-0.05, X[:,0].max()+0.05)\n",
    "plt.ylim(X[:,1].min()-0.05, X[:,1].max()+0.05)\n",
    "\n",
    "plt.xlabel('$x_1$', fontsize=20)\n",
    "plt.ylabel('$x_2$', fontsize=20)"
   ]
  },
  {
   "cell_type": "markdown",
   "metadata": {},
   "source": [
    "## 2-layer neural net for learning XOR"
   ]
  },
  {
   "cell_type": "code",
   "execution_count": 4,
   "metadata": {},
   "outputs": [],
   "source": [
    "W = np.array([[1,1],[1,1]]) # Hidden layer\n",
    "c = np.array([0,-1])\n",
    "\n",
    "w = np.array([1,-2]) # Output layer\n",
    "b = np.array([0,0])"
   ]
  },
  {
   "cell_type": "markdown",
   "metadata": {},
   "source": [
    "$$\\mathbf{h} = \\sigma(\\mathbf{W}^\\top \\mathbf{x} + \\mathbf{c})$$\n",
    "$$\\mathbf{y} = \\sigma(\\mathbf{w}^\\top \\mathbf{x} + \\mathbf{b}),$$\n",
    "<center>where $\\mathbf{W} \\in \\mathbb{R}^{2\\times2}$, $\\mathbf{c} \\in \\mathbb{R}^2$, $\\mathbf{w} \\in \\mathbb{R}^2$, $\\mathbf{b} \\in \\mathbb{R}$.</center>\n",
    "<img src = 'xor-mlp.png' height=10% width=10%>"
   ]
  },
  {
   "cell_type": "markdown",
   "metadata": {},
   "source": [
    "## Compute hidden layer"
   ]
  },
  {
   "cell_type": "code",
   "execution_count": 5,
   "metadata": {
    "scrolled": true
   },
   "outputs": [
    {
     "data": {
      "text/plain": [
       "Text(0,0.5,'$h_2$')"
      ]
     },
     "execution_count": 5,
     "metadata": {},
     "output_type": "execute_result"
    },
    {
     "data": {
      "image/png": "[encoded data removed]",
      "text/plain": [
       "<matplotlib.figure.Figure at 0x7f9c0d092c18>"
      ]
     },
     "metadata": {},
     "output_type": "display_data"
    }
   ],
   "source": [
    "# Compute hidden layer values\n",
    "h = np.dot(X, W.T) + c\n",
    "\n",
    "# Plot transformed points\n",
    "plt.plot(h[y==0,0], h[y==0,1], 'ro', markersize=10)\n",
    "plt.plot(h[y==1,0], h[y==1,1], 'o', markersize=10)\n",
    "\n",
    "plt.xlim(h[:,0].min()-0.05, h[:,0].max()+0.05)\n",
    "plt.ylim(h[:,1].min()-0.05, h[:,1].max()+0.05)\n",
    "\n",
    "plt.xlabel('$h_1$', fontsize=20)\n",
    "plt.ylabel('$h_2$', fontsize=20)"
   ]
  },
  {
   "cell_type": "markdown",
   "metadata": {},
   "source": [
    "## Apply activation function / Output Layer"
   ]
  },
  {
   "cell_type": "code",
   "execution_count": 6,
   "metadata": {
    "scrolled": true
   },
   "outputs": [
    {
     "data": {
      "text/plain": [
       "[<matplotlib.lines.Line2D at 0x7f9c0cfc0dd8>]"
      ]
     },
     "execution_count": 6,
     "metadata": {},
     "output_type": "execute_result"
    },
    {
     "data": {
      "image/png": "[encoded data removed]",
      "text/plain": [
       "<matplotlib.figure.Figure at 0x7f9c0d1317b8>"
      ]
     },
     "metadata": {},
     "output_type": "display_data"
    }
   ],
   "source": [
    " # Apply activation function to 'h'\n",
    "h_ = np.maximum(h, 0)\n",
    "\n",
    "# Plot transformed points\n",
    "plt.plot(h_[y==0,0], h_[y==0,1], 'ro', markersize=10)\n",
    "plt.plot(h_[y==1,0], h_[y==1,1], 'o', markersize=10)\n",
    "\n",
    "plt.xlim(h[:,0].min()-0.05, h[:,0].max()+0.05)\n",
    "plt.ylim(h[:,1].min()-0.05, h[:,1].max()+0.05)\n",
    "\n",
    "plt.xlabel('$h_1$', fontsize=20)\n",
    "plt.ylabel('$h_2$', fontsize=20)\n",
    "\n",
    "# Plot output layer hyperplane (i.e. w^T h + b = 0)\n",
    "o = np.array([[-0*w[1]/w[0] - b[0], 0], [-1*w[1]/w[0] - b[0], 1]])\n",
    "plt.plot(o[:,0], o[:,1], 'k--')"
   ]
  },
  {
   "cell_type": "markdown",
   "metadata": {},
   "source": [
    "# Sigmoid + Squared Loss"
   ]
  },
  {
   "cell_type": "code",
   "execution_count": 7,
   "metadata": {},
   "outputs": [
    {
     "data": {
      "text/plain": [
       "Text(0.5,1,'$y=1$')"
      ]
     },
     "execution_count": 7,
     "metadata": {},
     "output_type": "execute_result"
    },
    {
     "data": {
      "image/png": "[encoded data removed]",
      "text/plain": [
       "<matplotlib.figure.Figure at 0x7f9c0d058208>"
      ]
     },
     "metadata": {},
     "output_type": "display_data"
    }
   ],
   "source": [
    "# Compute loss for values of z in range in -10 to 10\n",
    "z = np.arange(-10, 10, 0.1)\n",
    "sigz = 1/(1+np.exp(-z))\n",
    "sqloss0 = (sigz)**2\n",
    "sqloss1 = (1-sigz)**2\n",
    "\n",
    "_,(ax1,ax2,ax3) = plt.subplots(1,3,figsize=(18,3))\n",
    "\n",
    "ax1.plot(z, sigz)\n",
    "ax1.set_xlabel('$z$', fontsize=20)\n",
    "ax1.set_ylabel('$\\sigma(z)$', fontsize=20)\n",
    "ax1.set_title('Sigmoid', fontsize=20)\n",
    "\n",
    "ax2.plot(z, sqloss0)\n",
    "ax2.set_xlabel('$z$', fontsize=20)\n",
    "ax2.set_ylabel('Squared Loss', fontsize=20)\n",
    "ax2.set_title('$y=0$', fontsize=20)\n",
    "\n",
    "ax3.plot(z, sqloss1)\n",
    "ax3.set_xlabel('$z$', fontsize=20)\n",
    "ax3.set_ylabel('Squared Loss', fontsize=20)\n",
    "ax3.set_title('$y=1$', fontsize=20)"
   ]
  },
  {
   "cell_type": "markdown",
   "metadata": {},
   "source": [
    "# Sigmoid + Cross-entropy Loss"
   ]
  },
  {
   "cell_type": "code",
   "execution_count": 8,
   "metadata": {},
   "outputs": [
    {
     "data": {
      "text/plain": [
       "(0, 5)"
      ]
     },
     "execution_count": 8,
     "metadata": {},
     "output_type": "execute_result"
    },
    {
     "data": {
      "image/png": "[encoded data removed]",
      "text/plain": [
       "<matplotlib.figure.Figure at 0x7f9c0ceb9d68>"
      ]
     },
     "metadata": {},
     "output_type": "display_data"
    }
   ],
   "source": [
    "# Compute loss for values of z in range in -5 to 5\n",
    "z = np.arange(-5, 5, 0.1)\n",
    "sigz = 1/(1+np.exp(-z))\n",
    "sqloss0 = -np.log(1-sigz)\n",
    "sqloss1 = -np.log(sigz)\n",
    "\n",
    "_,(ax1,ax2,ax3) = plt.subplots(1,3,figsize=(18,3))\n",
    "\n",
    "ax1.plot(z, sigz)\n",
    "ax1.set_xlabel('$z$', fontsize=20)\n",
    "ax1.set_ylabel('$\\sigma(z)$', fontsize=20)\n",
    "ax1.set_title('Sigmoid', fontsize=20)\n",
    "\n",
    "ax2.plot(z, sqloss0)\n",
    "ax2.set_xlabel('$z$', fontsize=20)\n",
    "ax2.set_ylabel('Cross-entropy Loss', fontsize=20)\n",
    "ax2.set_title('$y=0$', fontsize=20)\n",
    "\n",
    "ax3.plot(z, sqloss1)\n",
    "ax3.set_xlabel('$z$', fontsize=20)\n",
    "ax3.set_ylabel('Cross-entropy Loss', fontsize=20)\n",
    "ax3.set_title('$y=1$', fontsize=20)\n",
    "ax3.set_ylim([0,5])"
   ]
  },
  {
   "cell_type": "markdown",
   "metadata": {},
   "source": [
    "# Exponential Gain with Depth"
   ]
  },
  {
   "cell_type": "markdown",
   "metadata": {},
   "source": [
    "Consider the following feedforward network with $n$ hidden layers:\n",
    "$$\\mathbf{h}_0 = \\mathbf{x}$$\n",
    "$$\\mathbf{h}_i = \\big|\\,\\mathbf{h}_{i-1} - t_i\\,\\big|,~ i = 1, \\ldots, n$$\n",
    "$$\\mathbf{y} = \\mathbf{w}^\\top \\mathbf{h}_n,$$\n",
    "where each $\\mathbf{x}, \\mathbf{h}_0, \\ldots, \\mathbf{h}_n, \\mathbf{w} \\in \\mathbb{R}^2$ and  $t_i = 2^{-i}$. Here each hidden layer can be seen as folding the space of activations into half along both th axes. "
   ]
  },
  {
   "cell_type": "code",
   "execution_count": 9,
   "metadata": {},
   "outputs": [
    {
     "data": {
      "application/vnd.jupyter.widget-view+json": {
       "model_id": "6549f8e9926e4129813de1097d7f9db3",
       "version_major": 2,
       "version_minor": 0
      },
      "text/html": [
       "<p>Failed to display Jupyter Widget of type <code>interactive</code>.</p>\n",
       "<p>\n",
       "  If you're reading this message in the Jupyter Notebook or JupyterLab Notebook, it may mean\n",
       "  that the widgets JavaScript is still loading. If this message persists, it\n",
       "  likely means that the widgets JavaScript library is either not installed or\n",
       "  not enabled. See the <a href=\"https://ipywidgets.readthedocs.io/en/stable/user_install.html\">Jupyter\n",
       "  Widgets Documentation</a> for setup instructions.\n",
       "</p>\n",
       "<p>\n",
       "  If you're reading this message in another frontend (for example, a static\n",
       "  rendering on GitHub or <a href=\"https://nbviewer.jupyter.org/\">NBViewer</a>),\n",
       "  it may mean that your frontend doesn't currently support widgets.\n",
       "</p>\n"
      ],
      "text/plain": [
       "interactive(children=(IntSlider(value=4, description='num_hidden', max=9), Output()), _dom_classes=('widget-interact',))"
      ]
     },
     "metadata": {},
     "output_type": "display_data"
    },
    {
     "data": {
      "text/plain": [
       "<function __main__.plot_nnet>"
      ]
     },
     "execution_count": 9,
     "metadata": {},
     "output_type": "execute_result"
    }
   ],
   "source": [
    "# Function to implement neural net\n",
    "def fold_net(num_hidden, x):\n",
    "    # Compute hidden layers: each layer folds the input along both axes\n",
    "    fold_thresh = 0.5\n",
    "    for i in range(num_hidden):\n",
    "        x = np.abs(x - fold_thresh) # Apply abs activation at threshold\n",
    "        fold_thresh = fold_thresh / 2 # Halve the threshold\n",
    "    \n",
    "    # Final layer is a hyperplane\n",
    "    w = np.array([1,1])\n",
    "    b = -fold_thresh*2\n",
    "    y = np.dot(x, w) + b\n",
    "    \n",
    "    return np.sign(y)\n",
    "\n",
    "# Function to plot neural net decision boundary\n",
    "def plot_nnet(num_hidden):\n",
    "    _,(fig) = plt.subplots(1,1,figsize=(7, 7))\n",
    "    plot_decision_boundary(np.array([[0,0], [1,1]]), None, partial(fold_net,num_hidden),\\\n",
    "                                                   '#hidden layers = ' + str(num_hidden), fig)\n",
    "\n",
    "# Add slider control for #hidden-layers\n",
    "interact(plot_nnet, num_hidden=(0,9))"
   ]
  },
  {
   "cell_type": "markdown",
   "metadata": {},
   "source": [
    "### SVM with RBF kernel for same pattern"
   ]
  },
  {
   "cell_type": "code",
   "execution_count": 10,
   "metadata": {},
   "outputs": [
    {
     "data": {
      "application/vnd.jupyter.widget-view+json": {
       "model_id": "c114ce26b3a148518548d8b5c54df43a",
       "version_major": 2,
       "version_minor": 0
      },
      "text/html": [
       "<p>Failed to display Jupyter Widget of type <code>interactive</code>.</p>\n",
       "<p>\n",
       "  If you're reading this message in the Jupyter Notebook or JupyterLab Notebook, it may mean\n",
       "  that the widgets JavaScript is still loading. If this message persists, it\n",
       "  likely means that the widgets JavaScript library is either not installed or\n",
       "  not enabled. See the <a href=\"https://ipywidgets.readthedocs.io/en/stable/user_install.html\">Jupyter\n",
       "  Widgets Documentation</a> for setup instructions.\n",
       "</p>\n",
       "<p>\n",
       "  If you're reading this message in another frontend (for example, a static\n",
       "  rendering on GitHub or <a href=\"https://nbviewer.jupyter.org/\">NBViewer</a>),\n",
       "  it may mean that your frontend doesn't currently support widgets.\n",
       "</p>\n"
      ],
      "text/plain": [
       "interactive(children=(IntSlider(value=5, description='num_gaussians_per_axis', max=10), Output()), _dom_classes=('widget-interact',))"
      ]
     },
     "metadata": {},
     "output_type": "display_data"
    },
    {
     "data": {
      "text/plain": [
       "<function __main__.plot_svm>"
      ]
     },
     "execution_count": 10,
     "metadata": {},
     "output_type": "execute_result"
    }
   ],
   "source": [
    "# Function to implement RBF SVM\n",
    "def fold_svm(num_gaussians_per_axis, x):\n",
    "    n = x.shape[0]\n",
    "    sc = np.zeros((n,))\n",
    "    \n",
    "    num_gaussians_per_axis = num_gaussians_per_axis*2\n",
    "                                 \n",
    "    yi = 1\n",
    "    \n",
    "    # Compute: f(x) = \\sum_i y_i K(x_i, x), where K is RBF kernel \\exp(-||x-x_i||^2 / 2\\sigma^2),\n",
    "    #                                       x_i is kernel center, \\sigma is the kernel width parameter\n",
    "    # For n Gaussians per axis, we use centers: [1.0/n, j * 1.0/n], i = 1...n, j = 1...n, \\sigma = 1 / n / 3 \n",
    "    #                                                                   (so that the 3 SD = 1/n -- required radius)\n",
    "    for i in range(0, num_gaussians_per_axis+1):\n",
    "        yj = -1\n",
    "        \n",
    "        for j in range(0, num_gaussians_per_axis+1):\n",
    "            if((i + j) % 2 == 1):\n",
    "                continue\n",
    "                \n",
    "            center = np.array([i * 1.0/num_gaussians_per_axis, j * 1.0/num_gaussians_per_axis]).reshape(1,2)\n",
    "            \n",
    "            if(yi>0):\n",
    "                plt.plot(center[:,0],center[:,1], 'bx')\n",
    "            else:\n",
    "                plt.plot(center[:,0],center[:,1], 'rx')\n",
    "            \n",
    "            dif = x - np.repeat(center, n, axis=0)\n",
    "            pdf = np.exp(-np.sum(dif * dif * num_gaussians_per_axis * num_gaussians_per_axis * 9.0/2.0, axis=1))\n",
    "                        \n",
    "            sc = sc +  pdf * yi \n",
    "            \n",
    "            yj = yj * -1\n",
    "            \n",
    "        yi = yi * -1\n",
    "    \n",
    "    return np.sign(sc)\n",
    "\n",
    "# Function to plot SVM decision boundary\n",
    "def plot_svm(num_gaussians_per_axis):\n",
    "    _,(fig) = plt.subplots(1,1,figsize=(7, 7))\n",
    "    num_gaussians = 2*num_gaussians_per_axis*num_gaussians_per_axis + 2*num_gaussians_per_axis + 1\n",
    "    plot_decision_boundary(np.array([[0,0], [1,1]]), None, partial(fold_svm,num_gaussians_per_axis),\\\n",
    "                                                   '#gaussians = ' + str(num_gaussians), fig)\n",
    "\n",
    "# Add slider control for #gaussians_per_axis\n",
    "interact(plot_svm, num_gaussians_per_axis=(0,10))"
   ]
  },
  {
   "cell_type": "code",
   "execution_count": null,
   "metadata": {},
   "outputs": [],
   "source": []
  },
  {
   "cell_type": "code",
   "execution_count": null,
   "metadata": {},
   "outputs": [],
   "source": []
  }
 ],
 "metadata": {
  "anaconda-cloud": {},
  "kernelspec": {
   "display_name": "Python 3",
   "language": "python",
   "name": "python3"
  },
  "language_info": {
   "codemirror_mode": {
    "name": "ipython",
    "version": 3
   },
   "file_extension": ".py",
   "mimetype": "text/x-python",
   "name": "python",
   "nbconvert_exporter": "python",
   "pygments_lexer": "ipython3",
   "version": "3.6.4"
  }
 },
 "nbformat": 4,
 "nbformat_minor": 1
}
