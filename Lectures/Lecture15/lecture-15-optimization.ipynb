{
 "cells": [
  {
   "cell_type": "markdown",
   "metadata": {},
   "source": [
    "## Lecture 15: Optimization Example \n",
    "CS 109B, STAT 121B, AC 209B, CSE 109B\n",
    "\n",
    "Pavlos Protopapas and Mark Glickman "
   ]
  },
  {
   "cell_type": "code",
   "execution_count": 1,
   "metadata": {},
   "outputs": [
    {
     "name": "stderr",
     "output_type": "stream",
     "text": [
      "Using TensorFlow backend.\n"
     ]
    }
   ],
   "source": [
    "import keras\n",
    "from keras.models import Sequential\n",
    "from keras.layers import Dense\n",
    "from keras.layers import Dropout\n",
    "from keras.optimizers import SGD\n",
    "from keras.optimizers import RMSprop\n",
    "from keras.optimizers import Adam, Adagrad\n",
    "from keras import optimizers\n",
    "from keras.regularizers import l2, l1\n",
    "from keras.callbacks import EarlyStopping\n",
    "\n",
    "import numpy as np\n",
    "import pandas as pd\n",
    "\n",
    "%matplotlib inline\n",
    "import matplotlib\n",
    "import matplotlib.pyplot as plt"
   ]
  },
  {
   "cell_type": "markdown",
   "metadata": {},
   "source": [
    "## Load heart data"
   ]
  },
  {
   "cell_type": "code",
   "execution_count": 2,
   "metadata": {},
   "outputs": [
    {
     "data": {
      "text/html": [
       "<div>\n",
       "<style scoped>\n",
       "    .dataframe tbody tr th:only-of-type {\n",
       "        vertical-align: middle;\n",
       "    }\n",
       "\n",
       "    .dataframe tbody tr th {\n",
       "        vertical-align: top;\n",
       "    }\n",
       "\n",
       "    .dataframe thead th {\n",
       "        text-align: right;\n",
       "    }\n",
       "</style>\n",
       "<table border=\"1\" class=\"dataframe\">\n",
       "  <thead>\n",
       "    <tr style=\"text-align: right;\">\n",
       "      <th></th>\n",
       "      <th>Unnamed: 0</th>\n",
       "      <th>Age</th>\n",
       "      <th>Sex</th>\n",
       "      <th>ChestPain</th>\n",
       "      <th>RestBP</th>\n",
       "      <th>Chol</th>\n",
       "      <th>Fbs</th>\n",
       "      <th>RestECG</th>\n",
       "      <th>MaxHR</th>\n",
       "      <th>ExAng</th>\n",
       "      <th>Oldpeak</th>\n",
       "      <th>Slope</th>\n",
       "      <th>Ca</th>\n",
       "      <th>Thal</th>\n",
       "      <th>AHD</th>\n",
       "    </tr>\n",
       "  </thead>\n",
       "  <tbody>\n",
       "    <tr>\n",
       "      <th>0</th>\n",
       "      <td>1</td>\n",
       "      <td>63</td>\n",
       "      <td>1</td>\n",
       "      <td>typical</td>\n",
       "      <td>145</td>\n",
       "      <td>233</td>\n",
       "      <td>1</td>\n",
       "      <td>2</td>\n",
       "      <td>150</td>\n",
       "      <td>0</td>\n",
       "      <td>2.3</td>\n",
       "      <td>3</td>\n",
       "      <td>0.0</td>\n",
       "      <td>fixed</td>\n",
       "      <td>No</td>\n",
       "    </tr>\n",
       "    <tr>\n",
       "      <th>1</th>\n",
       "      <td>2</td>\n",
       "      <td>67</td>\n",
       "      <td>1</td>\n",
       "      <td>asymptomatic</td>\n",
       "      <td>160</td>\n",
       "      <td>286</td>\n",
       "      <td>0</td>\n",
       "      <td>2</td>\n",
       "      <td>108</td>\n",
       "      <td>1</td>\n",
       "      <td>1.5</td>\n",
       "      <td>2</td>\n",
       "      <td>3.0</td>\n",
       "      <td>normal</td>\n",
       "      <td>Yes</td>\n",
       "    </tr>\n",
       "    <tr>\n",
       "      <th>2</th>\n",
       "      <td>3</td>\n",
       "      <td>67</td>\n",
       "      <td>1</td>\n",
       "      <td>asymptomatic</td>\n",
       "      <td>120</td>\n",
       "      <td>229</td>\n",
       "      <td>0</td>\n",
       "      <td>2</td>\n",
       "      <td>129</td>\n",
       "      <td>1</td>\n",
       "      <td>2.6</td>\n",
       "      <td>2</td>\n",
       "      <td>2.0</td>\n",
       "      <td>reversable</td>\n",
       "      <td>Yes</td>\n",
       "    </tr>\n",
       "    <tr>\n",
       "      <th>3</th>\n",
       "      <td>4</td>\n",
       "      <td>37</td>\n",
       "      <td>1</td>\n",
       "      <td>nonanginal</td>\n",
       "      <td>130</td>\n",
       "      <td>250</td>\n",
       "      <td>0</td>\n",
       "      <td>0</td>\n",
       "      <td>187</td>\n",
       "      <td>0</td>\n",
       "      <td>3.5</td>\n",
       "      <td>3</td>\n",
       "      <td>0.0</td>\n",
       "      <td>normal</td>\n",
       "      <td>No</td>\n",
       "    </tr>\n",
       "    <tr>\n",
       "      <th>4</th>\n",
       "      <td>5</td>\n",
       "      <td>41</td>\n",
       "      <td>0</td>\n",
       "      <td>nontypical</td>\n",
       "      <td>130</td>\n",
       "      <td>204</td>\n",
       "      <td>0</td>\n",
       "      <td>2</td>\n",
       "      <td>172</td>\n",
       "      <td>0</td>\n",
       "      <td>1.4</td>\n",
       "      <td>1</td>\n",
       "      <td>0.0</td>\n",
       "      <td>normal</td>\n",
       "      <td>No</td>\n",
       "    </tr>\n",
       "  </tbody>\n",
       "</table>\n",
       "</div>"
      ],
      "text/plain": [
       "   Unnamed: 0  Age  Sex     ChestPain  RestBP  Chol  Fbs  RestECG  MaxHR  \\\n",
       "0           1   63    1       typical     145   233    1        2    150   \n",
       "1           2   67    1  asymptomatic     160   286    0        2    108   \n",
       "2           3   67    1  asymptomatic     120   229    0        2    129   \n",
       "3           4   37    1    nonanginal     130   250    0        0    187   \n",
       "4           5   41    0    nontypical     130   204    0        2    172   \n",
       "\n",
       "   ExAng  Oldpeak  Slope   Ca        Thal  AHD  \n",
       "0      0      2.3      3  0.0       fixed   No  \n",
       "1      1      1.5      2  3.0      normal  Yes  \n",
       "2      1      2.6      2  2.0  reversable  Yes  \n",
       "3      0      3.5      3  0.0      normal   No  \n",
       "4      0      1.4      1  0.0      normal   No  "
      ]
     },
     "execution_count": 2,
     "metadata": {},
     "output_type": "execute_result"
    }
   ],
   "source": [
    "data = pd.read_csv('heart.txt')\n",
    "data = data.dropna()\n",
    "\n",
    "data.head()"
   ]
  },
  {
   "cell_type": "markdown",
   "metadata": {},
   "source": [
    "## Pre-process data"
   ]
  },
  {
   "cell_type": "code",
   "execution_count": 3,
   "metadata": {},
   "outputs": [
    {
     "name": "stderr",
     "output_type": "stream",
     "text": [
      "/Users/eleni/anaconda2/envs/tensorflow/lib/python3.6/site-packages/ipykernel_launcher.py:2: DeprecationWarning: \n",
      ".ix is deprecated. Please use\n",
      ".loc for label based indexing or\n",
      ".iloc for positional indexing\n",
      "\n",
      "See the documentation here:\n",
      "http://pandas.pydata.org/pandas-docs/stable/indexing.html#ix-indexer-is-deprecated\n",
      "  \n"
     ]
    }
   ],
   "source": [
    "# One-hot encoding of categorical attributes\n",
    "x = data.ix[:,1:-1]\n",
    "x = pd.get_dummies(x).as_matrix()\n",
    "\n",
    "# Obtain labels and encode as {0, 1}\n",
    "y = data.ix[:,-1]\n",
    "y = (y=='Yes').as_matrix()*1.0\n",
    "\n",
    "# Normalize features\n",
    "x = (x - x.mean(axis=0)) / x.std(axis=0)\n",
    "\n",
    "# Split train-test sets\n",
    "n = x.shape[0]\n",
    "perm = np.random.permutation(n)\n",
    "n_tr = int(np.round(n*0.5))\n",
    "\n",
    "x_train = x[perm[0:n_tr],:]\n",
    "y_train = y[perm[0:n_tr]]\n",
    "\n",
    "x_test = x[perm[n_tr:],:]\n",
    "y_test = y[perm[n_tr:]]"
   ]
  },
  {
   "cell_type": "markdown",
   "metadata": {},
   "source": [
    "## SGD with Momentum"
   ]
  },
  {
   "cell_type": "code",
   "execution_count": 4,
   "metadata": {},
   "outputs": [
    {
     "name": "stdout",
     "output_type": "stream",
     "text": [
      "WARNING:tensorflow:Variable *= will be deprecated. Use variable.assign_mul if you want assignment to the variable value or 'x = x * y' if you want a new python Tensor object.\n"
     ]
    },
    {
     "data": {
      "text/plain": [
       "<matplotlib.legend.Legend at 0x181a61c550>"
      ]
     },
     "execution_count": 4,
     "metadata": {},
     "output_type": "execute_result"
    },
    {
     "data": {
      "image/png": "[encoded data removed]",
      "text/plain": [
       "<matplotlib.figure.Figure at 0x181a6753c8>"
      ]
     },
     "metadata": {},
     "output_type": "display_data"
    }
   ],
   "source": [
    "mom_val = [0,0.25,0.5,0.75,0.9,0.95,0.97]\n",
    "\n",
    "for i in range(0, len(mom_val)):  \n",
    "    np.random.seed(10)\n",
    "    \n",
    "    # Construct neural network model\n",
    "    model = Sequential()\n",
    "    model.add(Dense(100, activation='relu', input_shape=(x_train.shape[1],))) # hidden layer\n",
    "    model.add(Dense(1, activation='sigmoid')) # output layer\n",
    "\n",
    "    # Optimizer: SGD (loss = binary cross entropy)\n",
    "    sgd = SGD(lr=1, decay=1e-6, momentum=mom_val[i], nesterov=True)\n",
    "    model.compile(loss='binary_crossentropy', optimizer=sgd, metrics=['accuracy'])\n",
    "\n",
    "    # Fit neural network\n",
    "    history = model.fit(x_train, y_train, epochs=100, batch_size=100, verbose=0)\n",
    "    plt.plot(history.history['loss'], label='Momentum '+str(mom_val[i]))\n",
    "\n",
    "plt.legend()"
   ]
  },
  {
   "cell_type": "markdown",
   "metadata": {},
   "source": [
    "Also see: https://distill.pub/2017/momentum/"
   ]
  },
  {
   "cell_type": "markdown",
   "metadata": {},
   "source": [
    "## Adaptive Learning Rate"
   ]
  },
  {
   "cell_type": "code",
   "execution_count": 7,
   "metadata": {},
   "outputs": [
    {
     "data": {
      "text/plain": [
       "<matplotlib.legend.Legend at 0x18289dc160>"
      ]
     },
     "execution_count": 7,
     "metadata": {},
     "output_type": "execute_result"
    },
    {
     "data": {
      "image/png": "[encoded data removed]",
      "text/plain": [
       "<matplotlib.figure.Figure at 0x18270b6b38>"
      ]
     },
     "metadata": {},
     "output_type": "display_data"
    }
   ],
   "source": [
    "##\n",
    "# SGD\n",
    "adam = Adam(lr=0.1, decay=1e-6)\n",
    "np.random.seed(10)\n",
    "    \n",
    "# Construct neural network model\n",
    "model = Sequential()\n",
    "model.add(Dense(100, activation='relu', input_shape=(x_train.shape[1],))) # hidden layer\n",
    "model.add(Dense(1, activation='sigmoid')) # output layer\n",
    "\n",
    "# Optimizer: SGD (loss = binary cross entropy)\n",
    "sgd = SGD(lr=1, decay=1e-6, momentum=0, nesterov=True)\n",
    "model.compile(loss='binary_crossentropy', optimizer=sgd, metrics=['accuracy'])\n",
    "\n",
    "# Fit neural network\n",
    "history = model.fit(x_train, y_train, epochs=100, batch_size=100, verbose=0)\n",
    "plt.plot(history.history['loss'], label='SGD')\n",
    "\n",
    "##\n",
    "# SGD with momentum=0.9\n",
    "np.random.seed(10)\n",
    "    \n",
    "# Construct neural network model\n",
    "model = Sequential()\n",
    "model.add(Dense(100, activation='relu', input_shape=(x_train.shape[1],))) # hidden layer\n",
    "model.add(Dense(1, activation='sigmoid')) # output layer\n",
    "\n",
    "# Optimizer: SGD (loss = binary cross entropy)\n",
    "sgd = SGD(lr=1, decay=1e-6, momentum=0.9, nesterov=True)\n",
    "model.compile(loss='binary_crossentropy', optimizer=sgd, metrics=['accuracy'])\n",
    "\n",
    "# Fit neural network\n",
    "history = model.fit(x_train, y_train, epochs=100, batch_size=100, verbose=0)\n",
    "plt.plot(history.history['loss'], label='Momentum')\n",
    "\n",
    "##\n",
    "# Adagrad\n",
    "np.random.seed(10)\n",
    "    \n",
    "# Construct neural network model\n",
    "model = Sequential()\n",
    "model.add(Dense(100, activation='relu', input_shape=(x_train.shape[1],))) # hidden layer\n",
    "model.add(Dense(1, activation='sigmoid')) # output layer\n",
    "\n",
    "# Optimizer: SGD(loss = binary cross entropy)\n",
    "ada = Adagrad(lr=0.001, decay=1e-6)\n",
    "model.compile(loss='binary_crossentropy', optimizer=adam, metrics=['accuracy'])\n",
    "\n",
    "# Fit neural network\n",
    "history = model.fit(x_train, y_train, epochs=100, batch_size=100, verbose=0)\n",
    "plt.plot(history.history['loss'], label='Adagrad')\n",
    "\n",
    "plt.legend()\n",
    "\n",
    "##\n",
    "# RMSProp\n",
    "np.random.seed(10)\n",
    "    \n",
    "# Construct neural network model\n",
    "model = Sequential()\n",
    "model.add(Dense(100, activation='relu', input_shape=(x_train.shape[1],))) # hidden layer\n",
    "model.add(Dense(1, activation='sigmoid')) # output layer\n",
    "\n",
    "# Optimizer: SGD (loss = binary cross entropy)\n",
    "rmsprop = RMSprop(lr=0.01, decay=1e-6)\n",
    "model.compile(loss='binary_crossentropy', optimizer=rmsprop, metrics=['accuracy'])\n",
    "\n",
    "# Fit neural network\n",
    "history = model.fit(x_train, y_train, epochs=100, batch_size=100, verbose=0)\n",
    "plt.plot(history.history['loss'], label='RMSProp')\n",
    "\n",
    "plt.legend()\n",
    "\n",
    "##\n",
    "# Adam\n",
    "np.random.seed(10)\n",
    "    \n",
    "# Construct neural network model\n",
    "model = Sequential()\n",
    "model.add(Dense(100, activation='relu', input_shape=(x_train.shape[1],))) # hidden layer\n",
    "model.add(Dense(1, activation='sigmoid')) # output layer\n",
    "\n",
    "# Optimizer: SGD(loss = binary cross entropy)\n",
    "#adam = Adam(lr=0.1, decay=1e-6)\n",
    "model.compile(loss='binary_crossentropy', optimizer=adam, metrics=['accuracy'])\n",
    "\n",
    "# Fit neural network\n",
    "history = model.fit(x_train, y_train, epochs=100, batch_size=100, verbose=0)\n",
    "plt.plot(history.history['loss'], label='Adam')\n",
    "\n",
    "plt.legend()"
   ]
  },
  {
   "cell_type": "code",
   "execution_count": null,
   "metadata": {},
   "outputs": [],
   "source": []
  }
 ],
 "metadata": {
  "kernelspec": {
   "display_name": "Python 3",
   "language": "python",
   "name": "python3"
  },
  "language_info": {
   "codemirror_mode": {
    "name": "ipython",
    "version": 3
   },
   "file_extension": ".py",
   "mimetype": "text/x-python",
   "name": "python",
   "nbconvert_exporter": "python",
   "pygments_lexer": "ipython3",
   "version": "3.6.3"
  }
 },
 "nbformat": 4,
 "nbformat_minor": 2
}
