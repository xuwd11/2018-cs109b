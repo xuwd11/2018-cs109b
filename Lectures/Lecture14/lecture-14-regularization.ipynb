{
 "cells": [
  {
   "cell_type": "code",
   "execution_count": 1,
   "metadata": {},
   "outputs": [
    {
     "name": "stderr",
     "output_type": "stream",
     "text": [
      "Using TensorFlow backend.\n"
     ]
    }
   ],
   "source": [
    "import keras\n",
    "from keras.models import Sequential\n",
    "from keras.layers import Dense\n",
    "from keras.layers import Dropout\n",
    "from keras.optimizers import SGD\n",
    "from keras import optimizers\n",
    "from keras.regularizers import l2, l1\n",
    "from keras.callbacks import EarlyStopping\n",
    "\n",
    "import numpy as np\n",
    "import pandas as pd\n",
    "\n",
    "%matplotlib inline\n",
    "import matplotlib\n",
    "import matplotlib.pyplot as plt"
   ]
  },
  {
   "cell_type": "markdown",
   "metadata": {},
   "source": [
    "## Load heart data"
   ]
  },
  {
   "cell_type": "code",
   "execution_count": 2,
   "metadata": {},
   "outputs": [
    {
     "data": {
      "text/html": [
       "<div>\n",
       "<style>\n",
       "    .dataframe thead tr:only-child th {\n",
       "        text-align: right;\n",
       "    }\n",
       "\n",
       "    .dataframe thead th {\n",
       "        text-align: left;\n",
       "    }\n",
       "\n",
       "    .dataframe tbody tr th {\n",
       "        vertical-align: top;\n",
       "    }\n",
       "</style>\n",
       "<table border=\"1\" class=\"dataframe\">\n",
       "  <thead>\n",
       "    <tr style=\"text-align: right;\">\n",
       "      <th></th>\n",
       "      <th>Unnamed: 0</th>\n",
       "      <th>Age</th>\n",
       "      <th>Sex</th>\n",
       "      <th>ChestPain</th>\n",
       "      <th>RestBP</th>\n",
       "      <th>Chol</th>\n",
       "      <th>Fbs</th>\n",
       "      <th>RestECG</th>\n",
       "      <th>MaxHR</th>\n",
       "      <th>ExAng</th>\n",
       "      <th>Oldpeak</th>\n",
       "      <th>Slope</th>\n",
       "      <th>Ca</th>\n",
       "      <th>Thal</th>\n",
       "      <th>AHD</th>\n",
       "    </tr>\n",
       "  </thead>\n",
       "  <tbody>\n",
       "    <tr>\n",
       "      <th>0</th>\n",
       "      <td>1</td>\n",
       "      <td>63</td>\n",
       "      <td>1</td>\n",
       "      <td>typical</td>\n",
       "      <td>145</td>\n",
       "      <td>233</td>\n",
       "      <td>1</td>\n",
       "      <td>2</td>\n",
       "      <td>150</td>\n",
       "      <td>0</td>\n",
       "      <td>2.3</td>\n",
       "      <td>3</td>\n",
       "      <td>0.0</td>\n",
       "      <td>fixed</td>\n",
       "      <td>No</td>\n",
       "    </tr>\n",
       "    <tr>\n",
       "      <th>1</th>\n",
       "      <td>2</td>\n",
       "      <td>67</td>\n",
       "      <td>1</td>\n",
       "      <td>asymptomatic</td>\n",
       "      <td>160</td>\n",
       "      <td>286</td>\n",
       "      <td>0</td>\n",
       "      <td>2</td>\n",
       "      <td>108</td>\n",
       "      <td>1</td>\n",
       "      <td>1.5</td>\n",
       "      <td>2</td>\n",
       "      <td>3.0</td>\n",
       "      <td>normal</td>\n",
       "      <td>Yes</td>\n",
       "    </tr>\n",
       "    <tr>\n",
       "      <th>2</th>\n",
       "      <td>3</td>\n",
       "      <td>67</td>\n",
       "      <td>1</td>\n",
       "      <td>asymptomatic</td>\n",
       "      <td>120</td>\n",
       "      <td>229</td>\n",
       "      <td>0</td>\n",
       "      <td>2</td>\n",
       "      <td>129</td>\n",
       "      <td>1</td>\n",
       "      <td>2.6</td>\n",
       "      <td>2</td>\n",
       "      <td>2.0</td>\n",
       "      <td>reversable</td>\n",
       "      <td>Yes</td>\n",
       "    </tr>\n",
       "    <tr>\n",
       "      <th>3</th>\n",
       "      <td>4</td>\n",
       "      <td>37</td>\n",
       "      <td>1</td>\n",
       "      <td>nonanginal</td>\n",
       "      <td>130</td>\n",
       "      <td>250</td>\n",
       "      <td>0</td>\n",
       "      <td>0</td>\n",
       "      <td>187</td>\n",
       "      <td>0</td>\n",
       "      <td>3.5</td>\n",
       "      <td>3</td>\n",
       "      <td>0.0</td>\n",
       "      <td>normal</td>\n",
       "      <td>No</td>\n",
       "    </tr>\n",
       "    <tr>\n",
       "      <th>4</th>\n",
       "      <td>5</td>\n",
       "      <td>41</td>\n",
       "      <td>0</td>\n",
       "      <td>nontypical</td>\n",
       "      <td>130</td>\n",
       "      <td>204</td>\n",
       "      <td>0</td>\n",
       "      <td>2</td>\n",
       "      <td>172</td>\n",
       "      <td>0</td>\n",
       "      <td>1.4</td>\n",
       "      <td>1</td>\n",
       "      <td>0.0</td>\n",
       "      <td>normal</td>\n",
       "      <td>No</td>\n",
       "    </tr>\n",
       "  </tbody>\n",
       "</table>\n",
       "</div>"
      ],
      "text/plain": [
       "   Unnamed: 0  Age  Sex     ChestPain  RestBP  Chol  Fbs  RestECG  MaxHR  \\\n",
       "0           1   63    1       typical     145   233    1        2    150   \n",
       "1           2   67    1  asymptomatic     160   286    0        2    108   \n",
       "2           3   67    1  asymptomatic     120   229    0        2    129   \n",
       "3           4   37    1    nonanginal     130   250    0        0    187   \n",
       "4           5   41    0    nontypical     130   204    0        2    172   \n",
       "\n",
       "   ExAng  Oldpeak  Slope   Ca        Thal  AHD  \n",
       "0      0      2.3      3  0.0       fixed   No  \n",
       "1      1      1.5      2  3.0      normal  Yes  \n",
       "2      1      2.6      2  2.0  reversable  Yes  \n",
       "3      0      3.5      3  0.0      normal   No  \n",
       "4      0      1.4      1  0.0      normal   No  "
      ]
     },
     "execution_count": 2,
     "metadata": {},
     "output_type": "execute_result"
    }
   ],
   "source": [
    "data = pd.read_csv('heart.txt')\n",
    "data = data.dropna()\n",
    "\n",
    "data.head()"
   ]
  },
  {
   "cell_type": "markdown",
   "metadata": {},
   "source": [
    "## Pre-process data"
   ]
  },
  {
   "cell_type": "code",
   "execution_count": 4,
   "metadata": {
    "collapsed": true
   },
   "outputs": [],
   "source": [
    "# One-hot encoding of categorical attributes\n",
    "x = data.ix[:,1:-1]\n",
    "x = pd.get_dummies(x).as_matrix()\n",
    "\n",
    "# Obtain labels and encode as {0, 1}\n",
    "y = data.ix[:,-1]\n",
    "y = (y=='Yes').as_matrix()*1.0\n",
    "\n",
    "# Normalize features\n",
    "x = (x - x.mean(axis=0)) / x.std(axis=0)\n",
    "\n",
    "# Split train-test sets\n",
    "n = x.shape[0]\n",
    "perm = np.random.permutation(n)\n",
    "n_tr = int(np.round(n*0.5))\n",
    "\n",
    "x_train = x[perm[0:n_tr],:]\n",
    "y_train = y[perm[0:n_tr]]\n",
    "\n",
    "x_test = x[perm[n_tr:],:]\n",
    "y_test = y[perm[n_tr:]]"
   ]
  },
  {
   "cell_type": "markdown",
   "metadata": {},
   "source": [
    "## Train neural network with 1 hidden layer"
   ]
  },
  {
   "cell_type": "code",
   "execution_count": 5,
   "metadata": {
    "collapsed": true
   },
   "outputs": [],
   "source": [
    "def train_nn(x_train, y_train, num_hidden_nodes):\n",
    "    # Construct neural network model\n",
    "    model = Sequential()\n",
    "    model.add(Dense(num_hidden_nodes, activation='relu', input_shape=(x_train.shape[1],))) # hidden layer\n",
    "    model.add(Dense(1, activation='sigmoid')) # output layer\n",
    "    \n",
    "    # Optimizer: SGD (loss = binary cross entropy)\n",
    "    sgd = SGD(lr=1, decay=1e-6, momentum=0.9, nesterov=True)\n",
    "    model.compile(loss='binary_crossentropy', optimizer=sgd, metrics=['accuracy'])\n",
    "    \n",
    "    # Fit neural network\n",
    "    model.fit(x_train, y_train, epochs=100, batch_size=100, verbose=0)\n",
    "    \n",
    "    return model"
   ]
  },
  {
   "cell_type": "code",
   "execution_count": 6,
   "metadata": {},
   "outputs": [
    {
     "name": "stdout",
     "output_type": "stream",
     "text": [
      "Plain neural network\n",
      "Train accuracy: 1.0\n",
      "Test accuracy: 0.751677853949\n"
     ]
    }
   ],
   "source": [
    "model = train_nn(x_train, y_train, 100)\n",
    "\n",
    "# Evaluate train and test accuracy\n",
    "tr_acc = model.evaluate(x_train, y_train, verbose=0)[1]\n",
    "ts_acc = model.evaluate(x_test, y_test, verbose=0)[1]\n",
    "    \n",
    "print('Plain neural network')\n",
    "print('Train accuracy: ' + str(tr_acc))\n",
    "print('Test accuracy: ' + str(ts_acc))"
   ]
  },
  {
   "cell_type": "markdown",
   "metadata": {},
   "source": [
    "## Train neural network with L2 regularization "
   ]
  },
  {
   "cell_type": "code",
   "execution_count": 7,
   "metadata": {
    "collapsed": true
   },
   "outputs": [],
   "source": [
    "def train_nn_l2(x_train, y_train, num_hidden_nodes, reg_param):\n",
    "    # Construct neural network model\n",
    "    model = Sequential()\n",
    "    reg = l2(reg_param)\n",
    "    \n",
    "    model.add(Dense(num_hidden_nodes, activation='relu', input_shape=(x_train.shape[1],),\\\n",
    "                        kernel_regularizer = reg)) # hidden layer, with L2 regularizer\n",
    "    model.add(Dense(1, activation='sigmoid',\\\n",
    "                        kernel_regularizer = reg)) # output layer, with L2 regularizer\n",
    "    \n",
    "    # Optimizer: SGD (loss = binary cross entropy)\n",
    "    sgd = SGD(lr=1, decay=1e-6, momentum=0.9, nesterov=True)\n",
    "    model.compile(loss='binary_crossentropy', optimizer=sgd, metrics=['accuracy'])\n",
    "    \n",
    "    # Fit neural network\n",
    "    model.fit(x_train, y_train, epochs=100, batch_size=100, verbose=0)\n",
    "    \n",
    "    return model"
   ]
  },
  {
   "cell_type": "code",
   "execution_count": 8,
   "metadata": {},
   "outputs": [
    {
     "data": {
      "text/plain": [
       "<matplotlib.legend.Legend at 0x17179fbdcf8>"
      ]
     },
     "execution_count": 8,
     "metadata": {},
     "output_type": "execute_result"
    },
    {
     "data": {
      "image/png": "[encoded data removed]",
      "text/plain": [
       "<matplotlib.figure.Figure at 0x171764bf198>"
      ]
     },
     "metadata": {},
     "output_type": "display_data"
    }
   ],
   "source": [
    "# List of regularizer parameters\n",
    "reg_params = [0.0001, 0.0001, 0.001, 0.01, 0.1]\n",
    "num_params = len(reg_params)\n",
    "\n",
    "# Iterate over parameters\n",
    "tr_acc = np.zeros(num_params,)\n",
    "ts_acc = np.zeros(num_params,)\n",
    "\n",
    "for i in range(num_params):\n",
    "    # Train neural network with L2 regularization\n",
    "    model = train_nn_l2(x_train, y_train, 100, reg_params[i])\n",
    "    \n",
    "    # Evaluate train and test accuracy\n",
    "    tr_acc[i] = model.evaluate(x_train, y_train, verbose=0)[1]\n",
    "    ts_acc[i] = model.evaluate(x_test, y_test, verbose=0)[1]\n",
    "    \n",
    "# Plot train and test accuracy as a function of reg parameter\n",
    "plt.semilogx(reg_params, tr_acc, '--b', label='Train')\n",
    "plt.semilogx(reg_params, ts_acc, 'r', label='Test')\n",
    "plt.xlabel('Regularization parameter')\n",
    "plt.ylabel('Accuracy')\n",
    "plt.title('L2 regularization')\n",
    "plt.legend()"
   ]
  },
  {
   "cell_type": "markdown",
   "metadata": {},
   "source": [
    "## Train neural network with L1 regularization "
   ]
  },
  {
   "cell_type": "code",
   "execution_count": 9,
   "metadata": {
    "collapsed": true
   },
   "outputs": [],
   "source": [
    "def train_nn_l1(x_train, y_train, num_hidden_nodes, reg_param):\n",
    "    # Construct neural network model\n",
    "    model = Sequential()\n",
    "    reg = l1(reg_param)\n",
    "    \n",
    "    model.add(Dense(num_hidden_nodes, activation='relu', input_shape=(x_train.shape[1],),\\\n",
    "                        kernel_regularizer = reg)) # hidden layer, with L2 regularizer\n",
    "    model.add(Dense(1, activation='sigmoid',\\\n",
    "                        kernel_regularizer = reg)) # output layer, with L2 regularizer\n",
    "    \n",
    "    # Optimizer: SGD (loss = binary cross entropy)\n",
    "    sgd = SGD(lr=1, decay=1e-6, momentum=0.9, nesterov=True)\n",
    "    model.compile(loss='binary_crossentropy', optimizer=sgd, metrics=['accuracy'])\n",
    "    \n",
    "    # Fit neural network\n",
    "    model.fit(x_train, y_train, epochs=100, batch_size=100, verbose=0)\n",
    "    \n",
    "    return model"
   ]
  },
  {
   "cell_type": "code",
   "execution_count": 10,
   "metadata": {},
   "outputs": [
    {
     "data": {
      "text/plain": [
       "<matplotlib.legend.Legend at 0x1717f0b4ac8>"
      ]
     },
     "execution_count": 10,
     "metadata": {},
     "output_type": "execute_result"
    },
    {
     "data": {
      "image/png": "[encoded data removed]",
      "text/plain": [
       "<matplotlib.figure.Figure at 0x1717b248e80>"
      ]
     },
     "metadata": {},
     "output_type": "display_data"
    }
   ],
   "source": [
    "# List of regularizer parameters\n",
    "reg_params = [0.0001, 0.0001, 0.001, 0.01, 0.1]\n",
    "num_params = len(reg_params)\n",
    "\n",
    "# Iterate over parameters\n",
    "tr_acc = np.zeros(num_params,)\n",
    "ts_acc = np.zeros(num_params,)\n",
    "\n",
    "for i in range(num_params):\n",
    "    # Train neural network with L1 regularization\n",
    "    model = train_nn_l1(x_train, y_train, 100, reg_params[i])\n",
    "    \n",
    "    # Evaluate train and test accuracy\n",
    "    tr_acc[i] = model.evaluate(x_train, y_train, verbose=0)[1]\n",
    "    ts_acc[i] = model.evaluate(x_test, y_test, verbose=0)[1]\n",
    "    \n",
    "# Plot train and test accuracy as a function of reg parameter\n",
    "plt.semilogx(reg_params, tr_acc, '--b', label='Train')\n",
    "plt.semilogx(reg_params, ts_acc, 'r', label='Test')\n",
    "plt.xlabel('Regularization parameter')\n",
    "plt.ylabel('Accuracy')\n",
    "plt.title('L1 regularization')\n",
    "plt.legend()"
   ]
  },
  {
   "cell_type": "markdown",
   "metadata": {},
   "source": [
    "## Train neural network with early stopping"
   ]
  },
  {
   "cell_type": "code",
   "execution_count": 11,
   "metadata": {
    "collapsed": true
   },
   "outputs": [],
   "source": [
    "def train_nn_earlystop(x_train, y_train, num_hidden_nodes, x_val, y_val):\n",
    "    # Construct neural network model\n",
    "    model = Sequential()    \n",
    "    model.add(Dense(num_hidden_nodes, activation='relu', input_shape=(x_train.shape[1],))) # hidden layer\n",
    "    model.add(Dense(1, activation='sigmoid')) # output layer\n",
    "    \n",
    "    # Early stopping call back\n",
    "    e_stop = EarlyStopping(monitor='val_loss', patience=0, verbose=0, mode='auto')\n",
    "    \n",
    "    # Optimizer: SGD (loss = binary cross entropy)\n",
    "    sgd = SGD(lr=1, decay=1e-6, momentum=0.9, nesterov=True)\n",
    "    model.compile(loss='binary_crossentropy', optimizer=sgd, metrics=['accuracy'])\n",
    "    \n",
    "    # Fit neural network\n",
    "    model.fit(x_train, y_train, epochs=100, batch_size=100, verbose=0,\\\n",
    "              callbacks=[e_stop], validation_data=(x_val, y_val))\n",
    "    \n",
    "    return model"
   ]
  },
  {
   "cell_type": "code",
   "execution_count": 12,
   "metadata": {},
   "outputs": [
    {
     "name": "stdout",
     "output_type": "stream",
     "text": [
      "Plain neural network\n",
      "Train accuracy: 1.0\n",
      "Test accuracy: 0.758389263745\n",
      "Neural network with early stopping\n",
      "Train accuracy: 0.885135138357\n",
      "Test accuracy: 0.805369128717\n"
     ]
    }
   ],
   "source": [
    "model = train_nn(x_train, y_train, 100)\n",
    "\n",
    "# Evaluate train and test accuracy\n",
    "tr_acc = model.evaluate(x_train, y_train, verbose=0)[1]\n",
    "ts_acc = model.evaluate(x_test, y_test, verbose=0)[1]\n",
    "    \n",
    "print('Plain neural network')\n",
    "print('Train accuracy: ' + str(tr_acc))\n",
    "print('Test accuracy: ' + str(ts_acc))\n",
    "\n",
    "print\n",
    "\n",
    "model = train_nn_earlystop(x_train, y_train, 100, x_test, y_test)\n",
    "\n",
    "# Evaluate train and test accuracy\n",
    "tr_acc = model.evaluate(x_train, y_train, verbose=0)[1]\n",
    "ts_acc = model.evaluate(x_test, y_test, verbose=0)[1]\n",
    "    \n",
    "print('Neural network with early stopping')\n",
    "print('Train accuracy: ' + str(tr_acc))\n",
    "print('Test accuracy: ' + str(ts_acc))"
   ]
  },
  {
   "cell_type": "markdown",
   "metadata": {},
   "source": [
    "## Train neural network with dropout"
   ]
  },
  {
   "cell_type": "code",
   "execution_count": 13,
   "metadata": {
    "collapsed": true
   },
   "outputs": [],
   "source": [
    "def train_nn_dropout(x_train, y_train, num_hidden_nodes, do_rate):\n",
    "    # Construct neural network model\n",
    "    model = Sequential() \n",
    "    model.add(Dropout(do_rate, input_shape=(x.shape[1],))) # drop out on input nodes\n",
    "    model.add(Dense(num_hidden_nodes, activation='relu')) # hidden layer\n",
    "    model.add(Dropout(do_rate)) # drop out on hidden nodes\n",
    "    model.add(Dense(1, activation='sigmoid')) # output layer\n",
    "    \n",
    "    # Optimizer: SGD (loss = binary cross entropy)\n",
    "    sgd = SGD(lr=1, decay=1e-6, momentum=0.9, nesterov=True)\n",
    "    model.compile(loss='binary_crossentropy', optimizer=sgd, metrics=['accuracy'])\n",
    "    \n",
    "    # Fit neural network\n",
    "    model.fit(x_train, y_train, epochs=100, batch_size=100, verbose=0)\n",
    "    \n",
    "    return model"
   ]
  },
  {
   "cell_type": "code",
   "execution_count": 14,
   "metadata": {
    "scrolled": true
   },
   "outputs": [
    {
     "data": {
      "text/plain": [
       "<matplotlib.legend.Legend at 0x17104ee9320>"
      ]
     },
     "execution_count": 14,
     "metadata": {},
     "output_type": "execute_result"
    },
    {
     "data": {
      "image/png": "[encoded data removed]",
      "text/plain": [
       "<matplotlib.figure.Figure at 0x1717fa69438>"
      ]
     },
     "metadata": {},
     "output_type": "display_data"
    }
   ],
   "source": [
    "# List of regularizer parameters\n",
    "do_params = [0.1,0.2,0.3,0.4,0.5]\n",
    "num_params = len(do_params)\n",
    "\n",
    "# Iterate over parameters\n",
    "tr_acc = np.zeros(num_params,)\n",
    "ts_acc = np.zeros(num_params,)\n",
    "\n",
    "for i in range(num_params):\n",
    "    # Train neural network with L2 regularization\n",
    "    model = train_nn_dropout(x_train, y_train, 100, do_params[i])\n",
    "    \n",
    "    # Evaluate train and test accuracy\n",
    "    tr_acc[i] = model.evaluate(x_train, y_train, verbose=0)[1]\n",
    "    ts_acc[i] = model.evaluate(x_test, y_test, verbose=0)[1]\n",
    "    \n",
    "# Plot train and test accuracy as a function of reg parameter\n",
    "plt.plot(do_params, tr_acc, '--b', label='Train')\n",
    "plt.plot(do_params, ts_acc, 'r', label='Test')\n",
    "plt.xlabel('Dropout rate')\n",
    "plt.ylabel('Accuracy')\n",
    "plt.title('Dropout')\n",
    "plt.legend()"
   ]
  },
  {
   "cell_type": "markdown",
   "metadata": {},
   "source": [
    "## Does the network overfit? [remove]"
   ]
  },
  {
   "cell_type": "code",
   "execution_count": 15,
   "metadata": {},
   "outputs": [
    {
     "data": {
      "text/plain": [
       "<matplotlib.legend.Legend at 0x17107505d68>"
      ]
     },
     "execution_count": 15,
     "metadata": {},
     "output_type": "execute_result"
    },
    {
     "data": {
      "image/png": "[encoded data removed]",
      "text/plain": [
       "<matplotlib.figure.Figure at 0x17104efa470>"
      ]
     },
     "metadata": {},
     "output_type": "display_data"
    }
   ],
   "source": [
    "# No. of hidden nodes\n",
    "num_hidden = [5,10,50,100,500]\n",
    "num_params = len(num_hidden)\n",
    "\n",
    "# Iterate over parameters\n",
    "tr_acc = np.zeros(num_params,)\n",
    "ts_acc = np.zeros(num_params,)\n",
    "\n",
    "for i in range(num_params):\n",
    "    # Train neural network with num_hidden[i] hidden nodes\n",
    "    model = train_nn(x_train, y_train, num_hidden[i])\n",
    "\n",
    "    # Evaluate train and test accuracy\n",
    "    tr_acc[i] = model.evaluate(x_train, y_train, verbose=0)[1]\n",
    "    ts_acc[i] = model.evaluate(x_test, y_test, verbose=0)[1]\n",
    "    \n",
    "# Plot train and test accuracy as a function of reg parameter\n",
    "plt.semilogx(num_hidden, tr_acc, '--b', label='Train')\n",
    "plt.semilogx(num_hidden, ts_acc, 'r', label='Test')\n",
    "plt.xlabel('No. of hidden nodes')\n",
    "plt.ylabel('Accuracy')\n",
    "plt.title('Overfitting')\n",
    "plt.legend()"
   ]
  },
  {
   "cell_type": "code",
   "execution_count": null,
   "metadata": {
    "collapsed": true
   },
   "outputs": [],
   "source": []
  }
 ],
 "metadata": {
  "kernelspec": {
   "display_name": "Python 3",
   "language": "python",
   "name": "python3"
  },
  "language_info": {
   "codemirror_mode": {
    "name": "ipython",
    "version": 3
   },
   "file_extension": ".py",
   "mimetype": "text/x-python",
   "name": "python",
   "nbconvert_exporter": "python",
   "pygments_lexer": "ipython3",
   "version": "3.6.3"
  }
 },
 "nbformat": 4,
 "nbformat_minor": 2
}
